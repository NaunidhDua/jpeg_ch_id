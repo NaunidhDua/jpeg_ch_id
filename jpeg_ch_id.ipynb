{
 "cells": [
  {
   "cell_type": "code",
   "execution_count": 1,
   "id": "ece75fd3",
   "metadata": {},
   "outputs": [],
   "source": [
    "using ImageIO, FileIO, ImageShow, Colors, Plots, StatsBase, FFTW, LinearAlgebra"
   ]
  },
  {
   "cell_type": "code",
   "execution_count": 2,
   "id": "c1889ac9",
   "metadata": {},
   "outputs": [],
   "source": [
    "raw = convert(Array{Float64}, convert(Array{Gray}, load(\"testing/raw.png\")))\n",
    "oneGS75 = convert(Array{Float64}, convert(Array{Gray}, load(\"testing/oneGS.png\")))\n",
    "oneGS70 = convert(Array{Float64}, convert(Array{Gray}, load(\"testing/oneGS70.png\")))\n",
    "oneGS77 = convert(Array{Float64}, convert(Array{Gray}, load(\"testing/oneGS77.png\")))\n",
    "twoGS7575 = convert(Array{Float64}, convert(Array{Gray}, load(\"testing/twoGS7575.png\")))\n",
    "twoGS7565 = convert(Array{Float64}, convert(Array{Gray}, load(\"testing/twoGS7565.png\")))\n",
    "twoGS7540 = convert(Array{Float64}, convert(Array{Gray}, load(\"testing/twoGS7540.png\")))\n",
    "twoGS7590 = convert(Array{Float64}, convert(Array{Gray}, load(\"testing/twoGS7590.png\")))\n",
    "twoGS9075 = convert(Array{Float64}, convert(Array{Gray}, load(\"testing/twoGS7590.png\")))\n",
    "twoGS7770 = convert(Array{Float64}, convert(Array{Gray}, load(\"testing/twoGS7770.png\")));"
   ]
  },
  {
   "cell_type": "code",
   "execution_count": 3,
   "id": "950f1a63",
   "metadata": {},
   "outputs": [
    {
     "data": {
      "text/plain": [
       "epq (generic function with 1 method)"
      ]
     },
     "execution_count": 3,
     "metadata": {},
     "output_type": "execute_result"
    }
   ],
   "source": [
    "function epq(img, p, q)\n",
    "    irange = 1:8:4032-8\n",
    "    jrange = 1:8:3024-8\n",
    "    out = 0\n",
    "    for i = irange\n",
    "        for j = jrange\n",
    "            out += abs(img[i+p,j+q]-img[i+p,j+q+1]-img[i+p+1,j+q]+img[i+p+1,j+q+1])\n",
    "        end\n",
    "    end\n",
    "    return out\n",
    "end"
   ]
  },
  {
   "cell_type": "code",
   "execution_count": 34,
   "id": "3bb54416",
   "metadata": {},
   "outputs": [
    {
     "data": {
      "text/plain": [
       "determine_origin (generic function with 1 method)"
      ]
     },
     "execution_count": 34,
     "metadata": {},
     "output_type": "execute_result"
    }
   ],
   "source": [
    "function determine_origin(img)\n",
    "    x = 0:7\n",
    "    y = 0:7\n",
    "    X = repeat(reshape(x, 1, :), length(y), 1)\n",
    "    Y = repeat(y, 1, length(x))\n",
    "    function inner(p,q)\n",
    "        return(epq(img,p,q))\n",
    "    end\n",
    "    Z = map(inner, X, Y)\n",
    "    return heatmap(0:7, 0:7, Z, c=cgrad([:blue, :cyan]), size = (500, 400), xlabel=\"p\", ylabel=\"q\")\n",
    "end"
   ]
  },
  {
   "cell_type": "code",
   "execution_count": 35,
   "id": "cb6ae9a3",
   "metadata": {},
   "outputs": [
    {
     "data": {
      "text/plain": [
       "\"Plots/raw_origin.png\""
      ]
     },
     "execution_count": 35,
     "metadata": {},
     "output_type": "execute_result"
    }
   ],
   "source": [
    "determine_origin(raw);\n",
    "png(\"Plots/raw_origin.png\")"
   ]
  },
  {
   "cell_type": "code",
   "execution_count": 36,
   "id": "7ed6f554",
   "metadata": {
    "scrolled": false
   },
   "outputs": [
    {
     "data": {
      "text/plain": [
       "\"Plots/oneGS75_origin.png\""
      ]
     },
     "execution_count": 36,
     "metadata": {},
     "output_type": "execute_result"
    }
   ],
   "source": [
    "determine_origin(oneGS75);\n",
    "png(\"Plots/oneGS75_origin.png\")"
   ]
  },
  {
   "cell_type": "code",
   "execution_count": 37,
   "id": "e0222d56",
   "metadata": {},
   "outputs": [
    {
     "data": {
      "text/plain": [
       "\"Plots/twoGS7575_origin.png\""
      ]
     },
     "execution_count": 37,
     "metadata": {},
     "output_type": "execute_result"
    }
   ],
   "source": [
    "determine_origin(twoGS7575);\n",
    "png(\"Plots/twoGS7575_origin.png\")"
   ]
  },
  {
   "cell_type": "code",
   "execution_count": 38,
   "id": "9a1ec7b8",
   "metadata": {},
   "outputs": [
    {
     "data": {
      "text/plain": [
       "\"Plots/twoGS7590_origin.png\""
      ]
     },
     "execution_count": 38,
     "metadata": {},
     "output_type": "execute_result"
    }
   ],
   "source": [
    "determine_origin(twoGS7590);\n",
    "png(\"Plots/twoGS7590_origin.png\")"
   ]
  },
  {
   "cell_type": "code",
   "execution_count": 9,
   "id": "c90cf397",
   "metadata": {},
   "outputs": [
    {
     "data": {
      "text/plain": [
       "zHistogram (generic function with 1 method)"
      ]
     },
     "execution_count": 9,
     "metadata": {},
     "output_type": "execute_result"
    }
   ],
   "source": [
    "function get_Z1(img,p,q)\n",
    "    out = []\n",
    "    irange = p:8:4032-8\n",
    "    jrange = q:8:3024-8\n",
    "    for i = irange\n",
    "        for j = jrange\n",
    "            t = abs(img[i+3,j+3]-img[i+3,j+4]-img[i+4,j+3]+img[i+4,j+4])\n",
    "            append!(out,t)\n",
    "        end\n",
    "    end\n",
    "    return out\n",
    "end\n",
    "function get_Z2(img,p,q)\n",
    "    out = []\n",
    "    irange = p:8:4032-8\n",
    "    jrange = q:8:3024-8\n",
    "    for i = irange\n",
    "        for j = jrange\n",
    "            t = abs(img[i+7,j+7]-img[i+7,j+8]-img[i+8,j+7]+img[i+8,j+8])\n",
    "            append!(out,t)\n",
    "        end\n",
    "    end\n",
    "    return out\n",
    "end\n",
    "function zHistogram(img,p,q)\n",
    "    h1 = get_Z1(img,p,q)\n",
    "    h2 = get_Z2(img,p,q)\n",
    "    histogram(h1, normalize=:probability, bins=100, ylabel=\"Probability\", xlabel = \"Neighbour Differences\", label=\"Z'\", size = (400, 300))\n",
    "    histogram!(h2, normalize=:probability, bins=100, label=\"Z''\")\n",
    "end"
   ]
  },
  {
   "cell_type": "code",
   "execution_count": 10,
   "id": "02e2cf5b",
   "metadata": {},
   "outputs": [
    {
     "data": {
      "text/plain": [
       "get_K (generic function with 1 method)"
      ]
     },
     "execution_count": 10,
     "metadata": {},
     "output_type": "execute_result"
    }
   ],
   "source": [
    "function get_K(img,p,q)\n",
    "    h1 = convert(Vector{Float64}, get_Z1(img,p,q))\n",
    "    h2 = convert(Vector{Float64}, get_Z2(img,p,q))\n",
    "    h1SB = normalize(fit(Histogram, h1, 0:0.005:0.25), mode=:probability)\n",
    "    h2SB = normalize(fit(Histogram, h2, 0:0.005:0.25), mode=:probability)\n",
    "    return plot(abs.(h2SB.weights-h1SB.weights), ylim=(-0.1, 1), xlim=(0,50), legend = false,size = (400, 300)),sum(abs.(h2SB.weights-h1SB.weights)),abs.(h2SB.weights-h1SB.weights)\n",
    "end"
   ]
  },
  {
   "cell_type": "code",
   "execution_count": 11,
   "id": "7211fc6b",
   "metadata": {},
   "outputs": [
    {
     "data": {
      "text/plain": [
       "\"Plots/raw_h12.png\""
      ]
     },
     "execution_count": 11,
     "metadata": {},
     "output_type": "execute_result"
    }
   ],
   "source": [
    "zHistogram(raw,1,1)\n",
    "png(\"Plots/raw_h12.png\")"
   ]
  },
  {
   "cell_type": "code",
   "execution_count": 12,
   "id": "a1f542a2",
   "metadata": {},
   "outputs": [
    {
     "data": {
      "text/plain": [
       "\"Plots/oneGS75_h12.png\""
      ]
     },
     "execution_count": 12,
     "metadata": {},
     "output_type": "execute_result"
    }
   ],
   "source": [
    "zHistogram(oneGS75,1,1)\n",
    "png(\"Plots/oneGS75_h12\")"
   ]
  },
  {
   "cell_type": "code",
   "execution_count": 13,
   "id": "969f65bd",
   "metadata": {},
   "outputs": [
    {
     "name": "stdout",
     "output_type": "stream",
     "text": [
      "0.009555399697306882\n"
     ]
    },
    {
     "data": {
      "text/plain": [
       "\"Plots/raw_h12_diff.png\""
      ]
     },
     "execution_count": 13,
     "metadata": {},
     "output_type": "execute_result"
    }
   ],
   "source": [
    "rawAbsDiff,k = get_K(raw,1,1)\n",
    "println(k)\n",
    "rawAbsDiff[1];\n",
    "png(\"Plots/raw_h12_diff.png\")"
   ]
  },
  {
   "cell_type": "code",
   "execution_count": 14,
   "id": "a93feadf",
   "metadata": {},
   "outputs": [
    {
     "name": "stdout",
     "output_type": "stream",
     "text": [
      "1.2163412100342244\n"
     ]
    },
    {
     "data": {
      "text/plain": [
       "\"Plots/oneGS75_h12_diff.png\""
      ]
     },
     "execution_count": 14,
     "metadata": {},
     "output_type": "execute_result"
    }
   ],
   "source": [
    "oneAbsDiff,k = get_K(oneGS75,1,1)\n",
    "println(k)\n",
    "oneAbsDiff[1];\n",
    "png(\"Plots/oneGS75_h12_diff.png\")"
   ]
  },
  {
   "cell_type": "code",
   "execution_count": 15,
   "id": "8386fd6b",
   "metadata": {},
   "outputs": [
    {
     "data": {
      "text/plain": [
       "coeff_hist (generic function with 1 method)"
      ]
     },
     "execution_count": 15,
     "metadata": {},
     "output_type": "execute_result"
    }
   ],
   "source": [
    "function dct_coeffs(img,m,n)\n",
    "    irange = 1:8:4032-8\n",
    "    jrange = 1:8:3024-8\n",
    "    out = []\n",
    "    for i = irange\n",
    "        for j = jrange\n",
    "            x = img[i:i+7,j:j+7]\n",
    "            x .*= 255\n",
    "            x .-= 128\n",
    "            append!(out,dct(x)[m,n])\n",
    "        end\n",
    "    end\n",
    "    return out\n",
    "end\n",
    "function coeff_hist(img, isGray, colour, m, n)\n",
    "    if isGray\n",
    "        coeffs = dct_coeffs(img,m,n)\n",
    "    else\n",
    "        coeffs = dct_coeffs(colour.(img),m,n)\n",
    "    end\n",
    "    coeffs = [x for x in coeffs if abs(x) < 30]\n",
    "    graph = stephist(coeffs, bins=300, xlabel=\"Coefficient values\", label=\"m=$m, n=$n\",size = (400, 300))\n",
    "    \n",
    "    return graph\n",
    "end"
   ]
  },
  {
   "cell_type": "code",
   "execution_count": 16,
   "id": "02d017e5",
   "metadata": {},
   "outputs": [
    {
     "data": {
      "text/plain": [
       "\"Plots/raw_coeff_11.png\""
      ]
     },
     "execution_count": 16,
     "metadata": {},
     "output_type": "execute_result"
    }
   ],
   "source": [
    "coeff_hist(raw,true,0,1,1);\n",
    "png(\"Plots/raw_coeff_11.png\")"
   ]
  },
  {
   "cell_type": "code",
   "execution_count": 17,
   "id": "ce0c995e",
   "metadata": {},
   "outputs": [
    {
     "data": {
      "text/plain": [
       "\"Plots/raw_coeff_12.png\""
      ]
     },
     "execution_count": 17,
     "metadata": {},
     "output_type": "execute_result"
    }
   ],
   "source": [
    "coeff_hist(raw,true,0,1,2);\n",
    "png(\"Plots/raw_coeff_12.png\")"
   ]
  },
  {
   "cell_type": "code",
   "execution_count": 18,
   "id": "13c28140",
   "metadata": {},
   "outputs": [
    {
     "data": {
      "text/plain": [
       "\"Plots/oneGS75_coeff_11.png\""
      ]
     },
     "execution_count": 18,
     "metadata": {},
     "output_type": "execute_result"
    }
   ],
   "source": [
    "coeff_hist(oneGS75,true,0,1,1);\n",
    "png(\"Plots/oneGS75_coeff_11.png\")"
   ]
  },
  {
   "cell_type": "code",
   "execution_count": 19,
   "id": "0541d79a",
   "metadata": {},
   "outputs": [
    {
     "data": {
      "text/plain": [
       "\"Plots/oneGS75_coeff_12.png\""
      ]
     },
     "execution_count": 19,
     "metadata": {},
     "output_type": "execute_result"
    }
   ],
   "source": [
    "coeff_hist(oneGS75,true,0,1,2);\n",
    "png(\"Plots/oneGS75_coeff_12.png\")"
   ]
  },
  {
   "cell_type": "code",
   "execution_count": 20,
   "id": "e76b86f9",
   "metadata": {},
   "outputs": [
    {
     "data": {
      "text/plain": [
       "\"Plots/twoGS7770_coeff_12.png\""
      ]
     },
     "execution_count": 20,
     "metadata": {},
     "output_type": "execute_result"
    }
   ],
   "source": [
    "coeff_hist(twoGS7770,true,0,1,2);\n",
    "png(\"Plots/twoGS7770_coeff_12.png\")"
   ]
  },
  {
   "cell_type": "code",
   "execution_count": 21,
   "id": "b7ecb0e2",
   "metadata": {},
   "outputs": [
    {
     "data": {
      "text/plain": [
       "\"Plots/oneGS77_coeff_12.png\""
      ]
     },
     "execution_count": 21,
     "metadata": {},
     "output_type": "execute_result"
    }
   ],
   "source": [
    "coeff_hist(oneGS77,true,0,1,2);\n",
    "png(\"Plots/oneGS77_coeff_12.png\")"
   ]
  },
  {
   "cell_type": "code",
   "execution_count": 22,
   "id": "241d7cc3",
   "metadata": {},
   "outputs": [
    {
     "data": {
      "text/plain": [
       "\"Plots/oneGS70_coeff_12.png\""
      ]
     },
     "execution_count": 22,
     "metadata": {},
     "output_type": "execute_result"
    }
   ],
   "source": [
    "coeff_hist(oneGS70,true,0,1,2);\n",
    "png(\"Plots/oneGS70_coeff_12.png\")"
   ]
  },
  {
   "cell_type": "code",
   "execution_count": 23,
   "id": "3eea6350",
   "metadata": {},
   "outputs": [],
   "source": [
    "test1 = transpose(convert(Array{Float64}, convert(Array{Gray}, load(\"test1.png\"))))\n",
    "test2 = convert(Array{Float64}, convert(Array{Gray}, load(\"test2.png\")))\n",
    "test3 = convert(Array{Float64}, convert(Array{Gray}, load(\"test3.png\")))\n",
    "test1c = transpose(convert(Array{Float64}, convert(Array{Gray}, load(\"test1c.png\"))))\n",
    "test2c = convert(Array{Float64}, convert(Array{Gray}, load(\"test2c.png\")))\n",
    "test3c = convert(Array{Float64}, convert(Array{Gray}, load(\"test3c.png\")));"
   ]
  },
  {
   "cell_type": "code",
   "execution_count": 39,
   "id": "95ba3925",
   "metadata": {},
   "outputs": [
    {
     "data": {
      "text/plain": [
       "\"Plots/test3c_origin.png\""
      ]
     },
     "execution_count": 39,
     "metadata": {},
     "output_type": "execute_result"
    }
   ],
   "source": [
    "determine_origin(test1)\n",
    "png(\"Plots/test1_origin.png\")\n",
    "determine_origin(test2)\n",
    "png(\"Plots/test2_origin.png\")\n",
    "determine_origin(test3)\n",
    "png(\"Plots/test3_origin.png\")\n",
    "determine_origin(test1c)\n",
    "png(\"Plots/test1c_origin.png\")\n",
    "determine_origin(test2c)\n",
    "png(\"Plots/test2c_origin.png\")\n",
    "determine_origin(test3c);\n",
    "png(\"Plots/test3c_origin.png\")"
   ]
  },
  {
   "cell_type": "code",
   "execution_count": 25,
   "id": "c81ea97e",
   "metadata": {},
   "outputs": [
    {
     "name": "stdout",
     "output_type": "stream",
     "text": [
      "0.007674370320079288\n",
      "1.184289488532993\n",
      "1.173067694627988\n",
      "1.1208683368149075\n",
      "1.2166998011928432\n",
      "0.00984016326444519\n"
     ]
    },
    {
     "data": {
      "text/plain": [
       "\"Plots/test_h12_diffs.png\""
      ]
     },
     "execution_count": 25,
     "metadata": {},
     "output_type": "execute_result"
    }
   ],
   "source": [
    "test1AbsDiff = get_K(test1,1,1)\n",
    "println(test1AbsDiff[2])\n",
    "test1AbsDiff[1];\n",
    "png(\"Plots/test1_h12_diff.png\")\n",
    "\n",
    "test2AbsDiff = get_K(test2,1,1)\n",
    "println(test2AbsDiff[2])\n",
    "test2AbsDiff[1];\n",
    "png(\"Plots/test2_h12_diff.png\")\n",
    "\n",
    "test3AbsDiff = get_K(test3,1,1)\n",
    "println(test3AbsDiff[2])\n",
    "test3AbsDiff[1];\n",
    "png(\"Plots/test3_h12_diff.png\")\n",
    "\n",
    "test1cAbsDiff = get_K(test1c,1,1)\n",
    "println(test1cAbsDiff[2])\n",
    "test1cAbsDiff[1];\n",
    "png(\"Plots/test1c_h12_diff.png\")\n",
    "\n",
    "test2cAbsDiff = get_K(test2c,1,1)\n",
    "println(test2cAbsDiff[2])\n",
    "test2cAbsDiff[1];\n",
    "png(\"Plots/test2c_h12_diff.png\")\n",
    "\n",
    "test3cAbsDiff = get_K(test3c,1,1)\n",
    "println(test3cAbsDiff[2])\n",
    "test3cAbsDiff[1];\n",
    "png(\"Plots/test3c_h12_diff.png\")\n",
    "\n",
    "plot(test1AbsDiff[3], ylim=(-0.1, 1), xlim=(0,50), label = \"test1\")\n",
    "plot!(test2AbsDiff[3], ylim=(-0.1, 1), xlim=(0,50), label = \"test2\")\n",
    "plot!(test3AbsDiff[3], ylim=(-0.1, 1), xlim=(0,50), label = \"test3\")\n",
    "plot!(test1cAbsDiff[3], ylim=(-0.1, 1), xlim=(0,50), label = \"test1c\")\n",
    "plot!(test2cAbsDiff[3], ylim=(-0.1, 1), xlim=(0,50), label = \"test2c\")\n",
    "plot!(test3cAbsDiff[3], ylim=(-0.1, 1), xlim=(0,50), label = \"test3c\");\n",
    "png(\"Plots/test_h12_diffs\")"
   ]
  },
  {
   "cell_type": "code",
   "execution_count": 26,
   "id": "59efaf2d",
   "metadata": {},
   "outputs": [
    {
     "data": {
      "text/plain": [
       "\"Plots/test_Ks.png\""
      ]
     },
     "execution_count": 26,
     "metadata": {},
     "output_type": "execute_result"
    }
   ],
   "source": [
    "Ks = [test1AbsDiff[2], test2AbsDiff[2], test3AbsDiff[2], test1cAbsDiff[2], test2cAbsDiff[2], test3cAbsDiff[2]];\n",
    "Xs = [\"test1\", \"test2\", \"test3\", \"test1c\", \"test2c\", \"test3c\"]\n",
    "bar(Xs,Ks, label=\"K\")\n",
    "plot!(Xs,[0.25 for i in Xs], label=\"Threshold\", size = (400, 300));\n",
    "png(\"Plots/test_Ks.png\")"
   ]
  },
  {
   "cell_type": "code",
   "execution_count": 27,
   "id": "51a70109",
   "metadata": {},
   "outputs": [
    {
     "data": {
      "text/plain": [
       "\"Plots/test3c_coeff_12.png\""
      ]
     },
     "execution_count": 27,
     "metadata": {},
     "output_type": "execute_result"
    }
   ],
   "source": [
    "coeff_hist(test1,true,0,1,2)\n",
    "png(\"Plots/test1_coeff_12.png\")\n",
    "coeff_hist(test2,true,0,1,2)\n",
    "png(\"Plots/test2_coeff_12.png\")\n",
    "coeff_hist(test3,true,0,1,2)\n",
    "png(\"Plots/test3_coeff_12.png\")\n",
    "coeff_hist(test1c,true,0,1,2)\n",
    "png(\"Plots/test1c_coeff_12.png\")\n",
    "coeff_hist(test2c,true,0,1,2)\n",
    "png(\"Plots/test2c_coeff_12.png\")\n",
    "coeff_hist(test3c,true,0,1,2);\n",
    "png(\"Plots/test3c_coeff_12.png\")"
   ]
  }
 ],
 "metadata": {
  "kernelspec": {
   "display_name": "Julia 1.8.5",
   "language": "julia",
   "name": "julia-1.8"
  },
  "language_info": {
   "file_extension": ".jl",
   "mimetype": "application/julia",
   "name": "julia",
   "version": "1.8.5"
  }
 },
 "nbformat": 4,
 "nbformat_minor": 5
}
